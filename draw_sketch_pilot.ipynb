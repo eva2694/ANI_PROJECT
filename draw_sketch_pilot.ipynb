{
 "cells": [
  {
   "cell_type": "code",
   "execution_count": 1,
   "id": "98613913-5e0e-4545-9b60-cc2a4668653c",
   "metadata": {
    "ExecuteTime": {
     "end_time": "2023-12-04T20:00:32.266673982Z",
     "start_time": "2023-12-04T20:00:31.875562097Z"
    }
   },
   "outputs": [],
   "source": [
    "import sys\n",
    "from PIL import Image, ImageDraw\n",
    "from matplotlib import pyplot as plt\n",
    "import importlib"
   ]
  },
  {
   "cell_type": "code",
   "execution_count": 2,
   "id": "76a0a669-a3d0-401f-a626-1705e30ae2b4",
   "metadata": {
    "ExecuteTime": {
     "end_time": "2023-12-04T20:00:32.329335249Z",
     "start_time": "2023-12-04T20:00:32.265611296Z"
    }
   },
   "outputs": [],
   "source": [
    "import pandas as pd\n",
    "import numpy as np"
   ]
  },
  {
   "cell_type": "code",
   "execution_count": 3,
   "id": "553bbcec-ec6e-4ca9-afad-27a662033566",
   "metadata": {
    "ExecuteTime": {
     "end_time": "2023-12-04T20:00:32.331255982Z",
     "start_time": "2023-12-04T20:00:32.329802076Z"
    }
   },
   "outputs": [],
   "source": [
    "import os"
   ]
  },
  {
   "cell_type": "code",
   "execution_count": 4,
   "id": "f63d6d5b-1e8d-49a4-967e-472134fa2f3b",
   "metadata": {
    "ExecuteTime": {
     "end_time": "2023-12-04T20:00:32.560600887Z",
     "start_time": "2023-12-04T20:00:32.332119932Z"
    }
   },
   "outputs": [
    {
     "ename": "FileNotFoundError",
     "evalue": "[Errno 2] No such file or directory: 'Mnist_Human/maryann_Constellations.csv'",
     "output_type": "error",
     "traceback": [
      "\u001B[0;31m---------------------------------------------------------------------------\u001B[0m",
      "\u001B[0;31mFileNotFoundError\u001B[0m                         Traceback (most recent call last)",
      "Cell \u001B[0;32mIn[4], line 1\u001B[0m\n\u001B[0;32m----> 1\u001B[0m df \u001B[38;5;241m=\u001B[39m \u001B[43mpd\u001B[49m\u001B[38;5;241;43m.\u001B[39;49m\u001B[43mread_csv\u001B[49m\u001B[43m(\u001B[49m\u001B[38;5;124;43m'\u001B[39;49m\u001B[38;5;124;43mMnist_Human/maryann_Constellations.csv\u001B[39;49m\u001B[38;5;124;43m'\u001B[39;49m\u001B[43m)\u001B[49m\n",
      "File \u001B[0;32m~/ut/tlm/project/drawing/venv/lib64/python3.11/site-packages/pandas/io/parsers/readers.py:948\u001B[0m, in \u001B[0;36mread_csv\u001B[0;34m(filepath_or_buffer, sep, delimiter, header, names, index_col, usecols, dtype, engine, converters, true_values, false_values, skipinitialspace, skiprows, skipfooter, nrows, na_values, keep_default_na, na_filter, verbose, skip_blank_lines, parse_dates, infer_datetime_format, keep_date_col, date_parser, date_format, dayfirst, cache_dates, iterator, chunksize, compression, thousands, decimal, lineterminator, quotechar, quoting, doublequote, escapechar, comment, encoding, encoding_errors, dialect, on_bad_lines, delim_whitespace, low_memory, memory_map, float_precision, storage_options, dtype_backend)\u001B[0m\n\u001B[1;32m    935\u001B[0m kwds_defaults \u001B[38;5;241m=\u001B[39m _refine_defaults_read(\n\u001B[1;32m    936\u001B[0m     dialect,\n\u001B[1;32m    937\u001B[0m     delimiter,\n\u001B[0;32m   (...)\u001B[0m\n\u001B[1;32m    944\u001B[0m     dtype_backend\u001B[38;5;241m=\u001B[39mdtype_backend,\n\u001B[1;32m    945\u001B[0m )\n\u001B[1;32m    946\u001B[0m kwds\u001B[38;5;241m.\u001B[39mupdate(kwds_defaults)\n\u001B[0;32m--> 948\u001B[0m \u001B[38;5;28;01mreturn\u001B[39;00m \u001B[43m_read\u001B[49m\u001B[43m(\u001B[49m\u001B[43mfilepath_or_buffer\u001B[49m\u001B[43m,\u001B[49m\u001B[43m \u001B[49m\u001B[43mkwds\u001B[49m\u001B[43m)\u001B[49m\n",
      "File \u001B[0;32m~/ut/tlm/project/drawing/venv/lib64/python3.11/site-packages/pandas/io/parsers/readers.py:611\u001B[0m, in \u001B[0;36m_read\u001B[0;34m(filepath_or_buffer, kwds)\u001B[0m\n\u001B[1;32m    608\u001B[0m _validate_names(kwds\u001B[38;5;241m.\u001B[39mget(\u001B[38;5;124m\"\u001B[39m\u001B[38;5;124mnames\u001B[39m\u001B[38;5;124m\"\u001B[39m, \u001B[38;5;28;01mNone\u001B[39;00m))\n\u001B[1;32m    610\u001B[0m \u001B[38;5;66;03m# Create the parser.\u001B[39;00m\n\u001B[0;32m--> 611\u001B[0m parser \u001B[38;5;241m=\u001B[39m \u001B[43mTextFileReader\u001B[49m\u001B[43m(\u001B[49m\u001B[43mfilepath_or_buffer\u001B[49m\u001B[43m,\u001B[49m\u001B[43m \u001B[49m\u001B[38;5;241;43m*\u001B[39;49m\u001B[38;5;241;43m*\u001B[39;49m\u001B[43mkwds\u001B[49m\u001B[43m)\u001B[49m\n\u001B[1;32m    613\u001B[0m \u001B[38;5;28;01mif\u001B[39;00m chunksize \u001B[38;5;129;01mor\u001B[39;00m iterator:\n\u001B[1;32m    614\u001B[0m     \u001B[38;5;28;01mreturn\u001B[39;00m parser\n",
      "File \u001B[0;32m~/ut/tlm/project/drawing/venv/lib64/python3.11/site-packages/pandas/io/parsers/readers.py:1448\u001B[0m, in \u001B[0;36mTextFileReader.__init__\u001B[0;34m(self, f, engine, **kwds)\u001B[0m\n\u001B[1;32m   1445\u001B[0m     \u001B[38;5;28mself\u001B[39m\u001B[38;5;241m.\u001B[39moptions[\u001B[38;5;124m\"\u001B[39m\u001B[38;5;124mhas_index_names\u001B[39m\u001B[38;5;124m\"\u001B[39m] \u001B[38;5;241m=\u001B[39m kwds[\u001B[38;5;124m\"\u001B[39m\u001B[38;5;124mhas_index_names\u001B[39m\u001B[38;5;124m\"\u001B[39m]\n\u001B[1;32m   1447\u001B[0m \u001B[38;5;28mself\u001B[39m\u001B[38;5;241m.\u001B[39mhandles: IOHandles \u001B[38;5;241m|\u001B[39m \u001B[38;5;28;01mNone\u001B[39;00m \u001B[38;5;241m=\u001B[39m \u001B[38;5;28;01mNone\u001B[39;00m\n\u001B[0;32m-> 1448\u001B[0m \u001B[38;5;28mself\u001B[39m\u001B[38;5;241m.\u001B[39m_engine \u001B[38;5;241m=\u001B[39m \u001B[38;5;28;43mself\u001B[39;49m\u001B[38;5;241;43m.\u001B[39;49m\u001B[43m_make_engine\u001B[49m\u001B[43m(\u001B[49m\u001B[43mf\u001B[49m\u001B[43m,\u001B[49m\u001B[43m \u001B[49m\u001B[38;5;28;43mself\u001B[39;49m\u001B[38;5;241;43m.\u001B[39;49m\u001B[43mengine\u001B[49m\u001B[43m)\u001B[49m\n",
      "File \u001B[0;32m~/ut/tlm/project/drawing/venv/lib64/python3.11/site-packages/pandas/io/parsers/readers.py:1705\u001B[0m, in \u001B[0;36mTextFileReader._make_engine\u001B[0;34m(self, f, engine)\u001B[0m\n\u001B[1;32m   1703\u001B[0m     \u001B[38;5;28;01mif\u001B[39;00m \u001B[38;5;124m\"\u001B[39m\u001B[38;5;124mb\u001B[39m\u001B[38;5;124m\"\u001B[39m \u001B[38;5;129;01mnot\u001B[39;00m \u001B[38;5;129;01min\u001B[39;00m mode:\n\u001B[1;32m   1704\u001B[0m         mode \u001B[38;5;241m+\u001B[39m\u001B[38;5;241m=\u001B[39m \u001B[38;5;124m\"\u001B[39m\u001B[38;5;124mb\u001B[39m\u001B[38;5;124m\"\u001B[39m\n\u001B[0;32m-> 1705\u001B[0m \u001B[38;5;28mself\u001B[39m\u001B[38;5;241m.\u001B[39mhandles \u001B[38;5;241m=\u001B[39m \u001B[43mget_handle\u001B[49m\u001B[43m(\u001B[49m\n\u001B[1;32m   1706\u001B[0m \u001B[43m    \u001B[49m\u001B[43mf\u001B[49m\u001B[43m,\u001B[49m\n\u001B[1;32m   1707\u001B[0m \u001B[43m    \u001B[49m\u001B[43mmode\u001B[49m\u001B[43m,\u001B[49m\n\u001B[1;32m   1708\u001B[0m \u001B[43m    \u001B[49m\u001B[43mencoding\u001B[49m\u001B[38;5;241;43m=\u001B[39;49m\u001B[38;5;28;43mself\u001B[39;49m\u001B[38;5;241;43m.\u001B[39;49m\u001B[43moptions\u001B[49m\u001B[38;5;241;43m.\u001B[39;49m\u001B[43mget\u001B[49m\u001B[43m(\u001B[49m\u001B[38;5;124;43m\"\u001B[39;49m\u001B[38;5;124;43mencoding\u001B[39;49m\u001B[38;5;124;43m\"\u001B[39;49m\u001B[43m,\u001B[49m\u001B[43m \u001B[49m\u001B[38;5;28;43;01mNone\u001B[39;49;00m\u001B[43m)\u001B[49m\u001B[43m,\u001B[49m\n\u001B[1;32m   1709\u001B[0m \u001B[43m    \u001B[49m\u001B[43mcompression\u001B[49m\u001B[38;5;241;43m=\u001B[39;49m\u001B[38;5;28;43mself\u001B[39;49m\u001B[38;5;241;43m.\u001B[39;49m\u001B[43moptions\u001B[49m\u001B[38;5;241;43m.\u001B[39;49m\u001B[43mget\u001B[49m\u001B[43m(\u001B[49m\u001B[38;5;124;43m\"\u001B[39;49m\u001B[38;5;124;43mcompression\u001B[39;49m\u001B[38;5;124;43m\"\u001B[39;49m\u001B[43m,\u001B[49m\u001B[43m \u001B[49m\u001B[38;5;28;43;01mNone\u001B[39;49;00m\u001B[43m)\u001B[49m\u001B[43m,\u001B[49m\n\u001B[1;32m   1710\u001B[0m \u001B[43m    \u001B[49m\u001B[43mmemory_map\u001B[49m\u001B[38;5;241;43m=\u001B[39;49m\u001B[38;5;28;43mself\u001B[39;49m\u001B[38;5;241;43m.\u001B[39;49m\u001B[43moptions\u001B[49m\u001B[38;5;241;43m.\u001B[39;49m\u001B[43mget\u001B[49m\u001B[43m(\u001B[49m\u001B[38;5;124;43m\"\u001B[39;49m\u001B[38;5;124;43mmemory_map\u001B[39;49m\u001B[38;5;124;43m\"\u001B[39;49m\u001B[43m,\u001B[49m\u001B[43m \u001B[49m\u001B[38;5;28;43;01mFalse\u001B[39;49;00m\u001B[43m)\u001B[49m\u001B[43m,\u001B[49m\n\u001B[1;32m   1711\u001B[0m \u001B[43m    \u001B[49m\u001B[43mis_text\u001B[49m\u001B[38;5;241;43m=\u001B[39;49m\u001B[43mis_text\u001B[49m\u001B[43m,\u001B[49m\n\u001B[1;32m   1712\u001B[0m \u001B[43m    \u001B[49m\u001B[43merrors\u001B[49m\u001B[38;5;241;43m=\u001B[39;49m\u001B[38;5;28;43mself\u001B[39;49m\u001B[38;5;241;43m.\u001B[39;49m\u001B[43moptions\u001B[49m\u001B[38;5;241;43m.\u001B[39;49m\u001B[43mget\u001B[49m\u001B[43m(\u001B[49m\u001B[38;5;124;43m\"\u001B[39;49m\u001B[38;5;124;43mencoding_errors\u001B[39;49m\u001B[38;5;124;43m\"\u001B[39;49m\u001B[43m,\u001B[49m\u001B[43m \u001B[49m\u001B[38;5;124;43m\"\u001B[39;49m\u001B[38;5;124;43mstrict\u001B[39;49m\u001B[38;5;124;43m\"\u001B[39;49m\u001B[43m)\u001B[49m\u001B[43m,\u001B[49m\n\u001B[1;32m   1713\u001B[0m \u001B[43m    \u001B[49m\u001B[43mstorage_options\u001B[49m\u001B[38;5;241;43m=\u001B[39;49m\u001B[38;5;28;43mself\u001B[39;49m\u001B[38;5;241;43m.\u001B[39;49m\u001B[43moptions\u001B[49m\u001B[38;5;241;43m.\u001B[39;49m\u001B[43mget\u001B[49m\u001B[43m(\u001B[49m\u001B[38;5;124;43m\"\u001B[39;49m\u001B[38;5;124;43mstorage_options\u001B[39;49m\u001B[38;5;124;43m\"\u001B[39;49m\u001B[43m,\u001B[49m\u001B[43m \u001B[49m\u001B[38;5;28;43;01mNone\u001B[39;49;00m\u001B[43m)\u001B[49m\u001B[43m,\u001B[49m\n\u001B[1;32m   1714\u001B[0m \u001B[43m\u001B[49m\u001B[43m)\u001B[49m\n\u001B[1;32m   1715\u001B[0m \u001B[38;5;28;01massert\u001B[39;00m \u001B[38;5;28mself\u001B[39m\u001B[38;5;241m.\u001B[39mhandles \u001B[38;5;129;01mis\u001B[39;00m \u001B[38;5;129;01mnot\u001B[39;00m \u001B[38;5;28;01mNone\u001B[39;00m\n\u001B[1;32m   1716\u001B[0m f \u001B[38;5;241m=\u001B[39m \u001B[38;5;28mself\u001B[39m\u001B[38;5;241m.\u001B[39mhandles\u001B[38;5;241m.\u001B[39mhandle\n",
      "File \u001B[0;32m~/ut/tlm/project/drawing/venv/lib64/python3.11/site-packages/pandas/io/common.py:863\u001B[0m, in \u001B[0;36mget_handle\u001B[0;34m(path_or_buf, mode, encoding, compression, memory_map, is_text, errors, storage_options)\u001B[0m\n\u001B[1;32m    858\u001B[0m \u001B[38;5;28;01melif\u001B[39;00m \u001B[38;5;28misinstance\u001B[39m(handle, \u001B[38;5;28mstr\u001B[39m):\n\u001B[1;32m    859\u001B[0m     \u001B[38;5;66;03m# Check whether the filename is to be opened in binary mode.\u001B[39;00m\n\u001B[1;32m    860\u001B[0m     \u001B[38;5;66;03m# Binary mode does not support 'encoding' and 'newline'.\u001B[39;00m\n\u001B[1;32m    861\u001B[0m     \u001B[38;5;28;01mif\u001B[39;00m ioargs\u001B[38;5;241m.\u001B[39mencoding \u001B[38;5;129;01mand\u001B[39;00m \u001B[38;5;124m\"\u001B[39m\u001B[38;5;124mb\u001B[39m\u001B[38;5;124m\"\u001B[39m \u001B[38;5;129;01mnot\u001B[39;00m \u001B[38;5;129;01min\u001B[39;00m ioargs\u001B[38;5;241m.\u001B[39mmode:\n\u001B[1;32m    862\u001B[0m         \u001B[38;5;66;03m# Encoding\u001B[39;00m\n\u001B[0;32m--> 863\u001B[0m         handle \u001B[38;5;241m=\u001B[39m \u001B[38;5;28;43mopen\u001B[39;49m\u001B[43m(\u001B[49m\n\u001B[1;32m    864\u001B[0m \u001B[43m            \u001B[49m\u001B[43mhandle\u001B[49m\u001B[43m,\u001B[49m\n\u001B[1;32m    865\u001B[0m \u001B[43m            \u001B[49m\u001B[43mioargs\u001B[49m\u001B[38;5;241;43m.\u001B[39;49m\u001B[43mmode\u001B[49m\u001B[43m,\u001B[49m\n\u001B[1;32m    866\u001B[0m \u001B[43m            \u001B[49m\u001B[43mencoding\u001B[49m\u001B[38;5;241;43m=\u001B[39;49m\u001B[43mioargs\u001B[49m\u001B[38;5;241;43m.\u001B[39;49m\u001B[43mencoding\u001B[49m\u001B[43m,\u001B[49m\n\u001B[1;32m    867\u001B[0m \u001B[43m            \u001B[49m\u001B[43merrors\u001B[49m\u001B[38;5;241;43m=\u001B[39;49m\u001B[43merrors\u001B[49m\u001B[43m,\u001B[49m\n\u001B[1;32m    868\u001B[0m \u001B[43m            \u001B[49m\u001B[43mnewline\u001B[49m\u001B[38;5;241;43m=\u001B[39;49m\u001B[38;5;124;43m\"\u001B[39;49m\u001B[38;5;124;43m\"\u001B[39;49m\u001B[43m,\u001B[49m\n\u001B[1;32m    869\u001B[0m \u001B[43m        \u001B[49m\u001B[43m)\u001B[49m\n\u001B[1;32m    870\u001B[0m     \u001B[38;5;28;01melse\u001B[39;00m:\n\u001B[1;32m    871\u001B[0m         \u001B[38;5;66;03m# Binary mode\u001B[39;00m\n\u001B[1;32m    872\u001B[0m         handle \u001B[38;5;241m=\u001B[39m \u001B[38;5;28mopen\u001B[39m(handle, ioargs\u001B[38;5;241m.\u001B[39mmode)\n",
      "\u001B[0;31mFileNotFoundError\u001B[0m: [Errno 2] No such file or directory: 'Mnist_Human/maryann_Constellations.csv'"
     ]
    }
   ],
   "source": [
    "df = pd.read_csv('Mnist_Human/maryann_Constellations.csv')"
   ]
  },
  {
   "cell_type": "code",
   "execution_count": null,
   "id": "f3671388-725c-4257-a364-796f2707595a",
   "metadata": {
    "ExecuteTime": {
     "start_time": "2023-12-04T20:00:32.563875506Z"
    }
   },
   "outputs": [],
   "source": [
    "df.columns"
   ]
  },
  {
   "cell_type": "code",
   "execution_count": null,
   "id": "98e1fd28-97b3-49a4-9fab-127a6f54a366",
   "metadata": {
    "ExecuteTime": {
     "start_time": "2023-12-04T20:00:32.566758299Z"
    }
   },
   "outputs": [],
   "source": [
    "input_dir = 'data/' # input directory with csv files\n",
    "files = os.listdir(input_dir)"
   ]
  },
  {
   "cell_type": "code",
   "execution_count": null,
   "id": "4b3177ed-7fcc-4dd6-b354-7e22e7ab42a2",
   "metadata": {
    "ExecuteTime": {
     "start_time": "2023-12-04T20:00:32.568651958Z"
    }
   },
   "outputs": [],
   "source": [
    "len(files)"
   ]
  },
  {
   "cell_type": "code",
   "execution_count": null,
   "outputs": [],
   "source": [
    "df = pd.read_csv(input_dir+files[1])\n",
    "cols = df.columns"
   ],
   "metadata": {
    "collapsed": false
   },
   "id": "b222443b-0fe7-4b9e-aa3e-b8ea7237634b"
  },
  {
   "cell_type": "code",
   "execution_count": null,
   "id": "9ecd7554-810f-4eff-a720-66bd6e86cc07",
   "metadata": {
    "ExecuteTime": {
     "start_time": "2023-12-04T20:00:32.571353133Z"
    }
   },
   "outputs": [],
   "source": [
    "df.columns"
   ]
  },
  {
   "cell_type": "code",
   "execution_count": null,
   "id": "61a6de5a-ce8b-4db1-bba0-363bb12708c1",
   "metadata": {
    "ExecuteTime": {
     "start_time": "2023-12-04T20:00:32.596465591Z"
    }
   },
   "outputs": [],
   "source": [
    "df.iloc[trial_no]['mouse_track_2.time']"
   ]
  },
  {
   "cell_type": "code",
   "execution_count": null,
   "id": "b7b0ef15-e43d-4159-b280-0b26a999f9c0",
   "metadata": {
    "ExecuteTime": {
     "start_time": "2023-12-04T20:00:32.596820393Z"
    }
   },
   "outputs": [],
   "source": [
    "cols"
   ]
  },
  {
   "cell_type": "code",
   "execution_count": null,
   "id": "6c31120a-65f2-40f7-bd9a-17c6487e6963",
   "metadata": {
    "ExecuteTime": {
     "start_time": "2023-12-04T20:00:32.596946530Z"
    }
   },
   "outputs": [],
   "source": [
    "trial_no = 23"
   ]
  },
  {
   "cell_type": "code",
   "execution_count": null,
   "id": "122a79bb-3473-4450-882f-fe980e09de1f",
   "metadata": {
    "ExecuteTime": {
     "start_time": "2023-12-04T20:00:32.597095655Z"
    }
   },
   "outputs": [],
   "source": [
    "df.iloc[trial_no]['mouse_track.time']"
   ]
  },
  {
   "cell_type": "code",
   "execution_count": null,
   "id": "e8110910-70bd-4012-af58-2f78e7dc923a",
   "metadata": {
    "ExecuteTime": {
     "start_time": "2023-12-04T20:00:32.597184222Z"
    }
   },
   "outputs": [],
   "source": [
    "def convert_to_list(string):\n",
    "    lst = np.array(string[1:-1].split(',')).astype(float)\n",
    "    return lst"
   ]
  },
  {
   "cell_type": "code",
   "execution_count": null,
   "id": "5dd36fa7-8684-44c9-af31-a48915d3683c",
   "metadata": {
    "ExecuteTime": {
     "start_time": "2023-12-04T20:00:32.597240049Z"
    }
   },
   "outputs": [],
   "source": [
    "Xs = convert_to_list(df.iloc[trial_no]['mouse_track.x'])\n",
    "Ys = convert_to_list(df.iloc[trial_no]['mouse_track.y'])\n",
    "time = convert_to_list(df.iloc[trial_no]['mouse_track.time'])\n",
    "pen = convert_to_list(df.iloc[trial_no]['mouse_track.leftButton'])"
   ]
  },
  {
   "cell_type": "code",
   "execution_count": null,
   "id": "f2af23b0-3b25-4890-a1ad-004f2f6c7d51",
   "metadata": {
    "ExecuteTime": {
     "start_time": "2023-12-04T20:00:32.597290307Z"
    }
   },
   "outputs": [],
   "source": [
    "np.min(Xs)"
   ]
  },
  {
   "cell_type": "code",
   "execution_count": null,
   "id": "0fd3bfb9-0f55-4c29-8cb5-9b67d555fb33",
   "metadata": {
    "ExecuteTime": {
     "start_time": "2023-12-04T20:00:32.597337817Z"
    }
   },
   "outputs": [],
   "source": [
    "np.max(Xs)"
   ]
  },
  {
   "cell_type": "code",
   "execution_count": null,
   "id": "d0c55394-ec08-4ba0-b95b-2b93705ea269",
   "metadata": {
    "ExecuteTime": {
     "start_time": "2023-12-04T20:00:32.597386116Z"
    }
   },
   "outputs": [],
   "source": [
    "np.max(Ys)"
   ]
  },
  {
   "cell_type": "code",
   "execution_count": null,
   "id": "6df9cffd-e7eb-4a14-8b0f-b4d9728fbdfc",
   "metadata": {
    "ExecuteTime": {
     "start_time": "2023-12-04T20:00:32.597431613Z"
    }
   },
   "outputs": [],
   "source": [
    "## Transform the cursor cordinates from (-1,1) to pixel space i.e (size_x,size_y)\n",
    "x_pixels,y_pixels = 800,800   # size_x,size_y\n",
    "Xs_transformed = ((Xs+1)/2)*x_pixels\n",
    "Ys_transformed = (np.abs(Ys-1)/2)*y_pixels"
   ]
  },
  {
   "cell_type": "code",
   "execution_count": null,
   "id": "e9739e40-8e39-4e4d-b904-eb2ddf728332",
   "metadata": {
    "ExecuteTime": {
     "start_time": "2023-12-04T20:00:32.597477246Z"
    }
   },
   "outputs": [],
   "source": [
    "## obtain the timestamp from the clear pressed\n",
    "cp_nums = np.array(df.iloc[trial_no]['Clear pressed'][1:-1].split(','))\n",
    "clear_times = []\n",
    "for c in cp_nums:\n",
    "    try:\n",
    "        float(c)\n",
    "        clear_times.append(float(c))\n",
    "    except ValueError:\n",
    "        continue\n",
    "c_times = np.array(clear_times)"
   ]
  },
  {
   "cell_type": "code",
   "execution_count": null,
   "id": "016c0f12-0a7b-48a8-824c-9a9c8a6003dc",
   "metadata": {
    "ExecuteTime": {
     "start_time": "2023-12-04T20:00:32.597528478Z"
    }
   },
   "outputs": [],
   "source": [
    "## function to split drawing according to clear \n",
    "inds = []\n",
    "if(len(c_times)>0):\n",
    "    inds.append(np.where(time<c_times[0])[0])\n",
    "    for i in range(1,len(c_times)):\n",
    "        temp = np.where((c_times[i-1]<time) & (time<c_times[i]))\n",
    "        inds.append(temp[0])\n",
    "    inds.append(np.where(time>c_times[-1])[0])\n",
    "else:\n",
    "    inds.append(np.where(time))\n"
   ]
  },
  {
   "cell_type": "code",
   "execution_count": null,
   "id": "08488f75-9e65-4acd-bf7b-cf6c97851dd5",
   "metadata": {
    "ExecuteTime": {
     "start_time": "2023-12-04T20:00:32.597572402Z"
    }
   },
   "outputs": [],
   "source": [
    "Xs_temp"
   ]
  },
  {
   "cell_type": "code",
   "execution_count": null,
   "id": "652cfc7e-8429-447c-aa8e-0d4845e71d1b",
   "metadata": {
    "ExecuteTime": {
     "start_time": "2023-12-04T20:00:32.597615700Z"
    }
   },
   "outputs": [],
   "source": [
    "pen[sel]"
   ]
  },
  {
   "cell_type": "code",
   "execution_count": null,
   "id": "0764a720-6194-42ea-97a8-ba073583c433",
   "metadata": {
    "ExecuteTime": {
     "start_time": "2023-12-04T20:00:32.597744929Z"
    }
   },
   "outputs": [],
   "source": [
    "## draw all the drawings made in a trial\n",
    "for dw in inds:\n",
    "    sel = np.array(dw)[0]\n",
    "    txt = Image.new(\"RGB\",(800,800), (255, 255, 255))\n",
    "    # get a drawing context\n",
    "    draw = ImageDraw.Draw(txt)\n",
    "    Xs_temp,Ys_temp,pen_temp = Xs_transformed[sel],Ys_transformed[sel],pen[sel].astype(int)\n",
    "    for i,st in enumerate(pen_temp):\n",
    "        if(i ==0):\n",
    "            continue\n",
    "        if(st==1):\n",
    "            point = (Xs_temp[i-1],Ys_temp[i-1],Xs_temp[i],Ys_temp[i])\n",
    "            draw.line(point,fill=(0,0,0))\n",
    "            if(i>500):\n",
    "                break\n",
    "    plt.figure(figsize = (10,10))\n",
    "    plt.imshow(txt)"
   ]
  },
  {
   "cell_type": "code",
   "execution_count": null,
   "id": "a19cfb3f-5a4c-44a0-9257-e199ca0ff5c6",
   "metadata": {
    "ExecuteTime": {
     "start_time": "2023-12-04T20:00:32.597795293Z"
    }
   },
   "outputs": [],
   "source": []
  },
  {
   "cell_type": "code",
   "execution_count": null,
   "id": "34c88655-7cfd-4a53-960c-0d7b544e5980",
   "metadata": {
    "ExecuteTime": {
     "start_time": "2023-12-04T20:00:32.597841467Z"
    }
   },
   "outputs": [],
   "source": [
    "\n",
    "Xs_transformed[sel]"
   ]
  },
  {
   "cell_type": "code",
   "execution_count": null,
   "id": "2d49c97c-4b2f-4c1c-9234-aaefcb9359d8",
   "metadata": {
    "ExecuteTime": {
     "start_time": "2023-12-04T20:00:32.597886756Z"
    }
   },
   "outputs": [],
   "source": []
  },
  {
   "cell_type": "code",
   "execution_count": null,
   "id": "ff0417be-2aa8-42a2-ab43-3c41d9265100",
   "metadata": {
    "ExecuteTime": {
     "start_time": "2023-12-04T20:00:32.597935814Z"
    }
   },
   "outputs": [],
   "source": []
  }
 ],
 "metadata": {
  "kernelspec": {
   "display_name": "Python 3 (ipykernel)",
   "language": "python",
   "name": "python3"
  },
  "language_info": {
   "codemirror_mode": {
    "name": "ipython",
    "version": 3
   },
   "file_extension": ".py",
   "mimetype": "text/x-python",
   "name": "python",
   "nbconvert_exporter": "python",
   "pygments_lexer": "ipython3",
   "version": "3.11.3"
  }
 },
 "nbformat": 4,
 "nbformat_minor": 5
}
